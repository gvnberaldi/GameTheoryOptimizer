{
  "cells": [
    {
      "cell_type": "markdown",
      "metadata": {
        "id": "jzbPJ6LnmLk6"
      },
      "source": [
        "# Optimizing Game Theory Algorithms for Graph-Based Games"
      ]
    },
    {
      "cell_type": "markdown",
      "metadata": {
        "id": "Nq1dn_GBJ8sb"
      },
      "source": [
        "## Import sources and graph creation"
      ]
    },
    {
      "cell_type": "code",
      "execution_count": null,
      "metadata": {
        "id": "xIF2HEJPJdR9"
      },
      "outputs": [],
      "source": [
        "import networkx as nx\n",
        "import numpy as np\n",
        "from random import random, randint, uniform\n",
        "import time\n",
        "from math import factorial\n",
        "from itertools import combinations\n",
        "import matplotlib.pyplot as plt\n",
        "from typing import List\n",
        "from itertools import permutations\n",
        "import networkx.algorithms.approximation.treewidth as tw\n",
        "import random"
      ]
    },
    {
      "cell_type": "code",
      "execution_count": null,
      "metadata": {
        "id": "gc8255AbTCwo"
      },
      "outputs": [],
      "source": [
        "# @title execution parameters\n",
        "# these 4 variables determine what points will be executed.\n",
        "# You can choose whatever you prefer\n",
        "POINT_1 = True\n",
        "POINT_2 = True\n",
        "POINT_3 = True\n",
        "POINT_4 = True\n",
        "\n",
        "#set this to true for running experiments, false otherwise\n",
        "EXPERIMENTS = True\n",
        "\n",
        "#set this to true if you want to use the prepared blocks for testing the sol.\n",
        "SINGLE_BENCHMARK = False"
      ]
    },
    {
      "cell_type": "code",
      "execution_count": null,
      "metadata": {
        "colab": {
          "base_uri": "https://localhost:8080/"
        },
        "id": "k0EUYX4BJ6NQ",
        "outputId": "d9d3b4ab-cb52-4bee-8aab-0c8193f5a015"
      },
      "outputs": [
        {
          "name": "stdout",
          "output_type": "stream",
          "text": [
            "Nodes: ['s', 't', '1', '2', '3', '4']\n",
            "Edges: [('s', '1'), ('s', '2'), ('t', '3'), ('t', '4'), ('1', '3'), ('1', '4'), ('2', '4')]\n"
          ]
        }
      ],
      "source": [
        "\n",
        "G=nx.Graph()\n",
        "nodes = ['s', 't', '1', '2', '3', '4']\n",
        "edges = [('s', '1'), ('s', '2'), ('1', '3'), ('1', '4'), #('3','4'),('3','2'),\n",
        "         ('2', '4'), ('3', 't'), ('4', 't')]\n",
        "G.add_nodes_from(nodes)\n",
        "G.add_edges_from(edges)\n",
        "\n",
        "print(f\"Nodes: {G.nodes()}\")\n",
        "print(f\"Edges: {G.edges()}\")"
      ]
    },
    {
      "cell_type": "code",
      "execution_count": null,
      "metadata": {
        "id": "RIKvBxkL-Gvz"
      },
      "outputs": [],
      "source": [
        "# @title Random graph generator\n",
        "# generates a random graph starting from the fixed parameters in innput.\n",
        "# Used in all the assignments for both correctness checking and benchmarking\n",
        "def generate_random_graph_from_parameters(num_nodes: int, edge_density: float,\n",
        "                                          outcoming_edges_from_s: int,\n",
        "                                          incoming_edges_on_t: int):\n",
        "  min_node_name = 1\n",
        "  nodes = [str(x) for x in range(min_node_name,num_nodes+1)]\n",
        "  nodes.append('s')\n",
        "  nodes.append('t')\n",
        "  G=nx.Graph()\n",
        "  G.add_nodes_from(nodes)\n",
        "  #print(f\"adding nodes to graph: {nodes}\")\n",
        "  # add a number of edges according to density where density is a float\n",
        "  # between 0 and 1 which. A graph with density 0 is a graph without edges,\n",
        "  # a graph with density 1 is a graph with n(n-1)/2 eges when edges = num_nodes\n",
        "  max_num_edges = (num_nodes*(num_nodes -1))/2\n",
        "  #print(f\"Max num edges: {max_num_edges}\")\n",
        "  for i in range(int(max_num_edges * edge_density)):\n",
        "    # guess two nodes and add the edge\n",
        "    # if edge was already added guess again -I want the exact num of edges in G\n",
        "    u = nodes[randint(min_node_name-1,num_nodes-1)]\n",
        "    v = nodes[randint(min_node_name-1,num_nodes-1)]\n",
        "    edge = (u, v)\n",
        "    while G.has_edge(edge[0], edge[1]) or edge[0] == edge[1]:\n",
        "      u = nodes[randint(min_node_name-1,num_nodes-1)]\n",
        "      v = nodes[randint(min_node_name-1,num_nodes-1)]\n",
        "      edge = (u, v)\n",
        "    G.add_edge(edge[0], edge[1])\n",
        "    #print(f\"Adding edge {edge[0]}, {edge[1]}\")\n",
        "\n",
        "  for i in range(outcoming_edges_from_s):\n",
        "    v = nodes[randint(min_node_name-1,num_nodes-1)]\n",
        "    while G.has_edge('s', v):\n",
        "      v = nodes[randint(min_node_name-1,num_nodes-1)]\n",
        "    G.add_edge('s', v)\n",
        "    #print(f\"Adding edge from s towards {v}\")\n",
        "\n",
        "  for i in range(incoming_edges_on_t):\n",
        "    u  = nodes[randint(min_node_name-1,num_nodes-1)]\n",
        "    while G.has_edge(u, 't'):\n",
        "      u = nodes[randint(min_node_name-1,num_nodes-1)]\n",
        "    G.add_edge(u, 't')\n",
        "    #print(f\"Adding edge toward t from {u}\")\n",
        "  return G\n"
      ]
    },
    {
      "cell_type": "code",
      "execution_count": null,
      "metadata": {
        "id": "Xmzhsu8lUzVg"
      },
      "outputs": [],
      "source": [
        "# @title Materialized powerset\n",
        "def powerset(List):\n",
        "    subs = [frozenset(j) for i in range(len(List)) for j in combinations(List, i+1)]\n",
        "    subs += [frozenset()]\n",
        "    return subs"
      ]
    },
    {
      "cell_type": "code",
      "execution_count": null,
      "metadata": {
        "id": "L0e--LjS_Y01"
      },
      "outputs": [],
      "source": [
        "# @title Generation example\n",
        "\n",
        "# num_nodes = randint(10, 15)\n",
        "# density = random.uniform(0.1, 1.0)\n",
        "# print(f\"Generating node with num nodes: {num_nodes} and density: {density}\")\n",
        "# #TODO these names are not appropriate\n",
        "# edges_outcoming_from_s = randint(2, 3)\n",
        "# edges_incoming_on_t = randint(2, 3)\n",
        "# G = generate_random_graph_from_parameters(num_nodes, density, 2, 2)\n",
        "# print(f\"The graph contains {len(list(G.neighbors('s')))} edges from s and {len(list(G.neighbors('t')))} edges from t\")\n",
        "# print(f\"The graph has: {len(list(G.nodes()))} nodes and {len(list(G.edges()))} edges\")\n",
        "\n"
      ]
    },
    {
      "cell_type": "code",
      "execution_count": null,
      "metadata": {
        "colab": {
          "base_uri": "https://localhost:8080/",
          "height": 516
        },
        "id": "Gzv0zTfQ5Ksa",
        "outputId": "95958f09-7ade-481f-9dc6-0cd3b88d2541"
      },
      "outputs": [
        {
          "data": {
            "image/png": "[encoded data removed]",
            "text/plain": [
              "<Figure size 640x480 with 1 Axes>"
            ]
          },
          "metadata": {},
          "output_type": "display_data"
        }
      ],
      "source": [
        "# @title Graph plot\n",
        "nx.draw(G, with_labels = True, font_weight='bold', node_size = 500, node_color = 'red')"
      ]
    },
    {
      "cell_type": "markdown",
      "metadata": {
        "id": "82uF5hgeL2kb"
      },
      "source": [
        "# Assignment 1"
      ]
    },
    {
      "cell_type": "markdown",
      "metadata": {
        "id": "Xi3MhDSONGcE"
      },
      "source": [
        "Assume that forming a path connecting s and t lead to a reward of 100$. Then,compute the Shapley value associated with the agents in {1,2,……,n} as a fair way to distribute that reward among the agents in {1,2,……, n}, which in particular encourages cooperation"
      ]
    },
    {
      "cell_type": "code",
      "execution_count": null,
      "metadata": {
        "id": "U6ZxM31OUIOz"
      },
      "outputs": [],
      "source": [
        "# @title compute characteristic function for graph G\n",
        "if POINT_1:\n",
        "  def compute_characteristic_function(G, naive: bool):\n",
        "    characteristic_function: dict = {}\n",
        "    all_nodes = list(G.nodes())\n",
        "    all_nodes.remove('s')\n",
        "    all_nodes.remove('t')\n",
        "    all_coalitions = powerset(all_nodes)\n",
        "    # for every coalition, modify the graph such that\n",
        "    # it contains only the nodes and the edges in such coalitions\n",
        "    # and assign a value to CF according to the path formation\n",
        "    for coalition in all_coalitions:\n",
        "      removed_nodes = []\n",
        "      for node in all_nodes:\n",
        "        if node not in coalition:\n",
        "          removed_nodes.append(node)\n",
        "\n",
        "      removed_edges = list(G.edges(removed_nodes))\n",
        "      G.remove_nodes_from(removed_nodes)\n",
        "      #check that a path s-t exists in the subgraph\n",
        "      #made of the nodes in the subset and the edges\n",
        "      #incident to such nodes\n",
        "      if nx.has_path(G, 's', 't'):\n",
        "        characteristic_function[coalition] = 100\n",
        "      else:\n",
        "        if naive:\n",
        "          characteristic_function[coalition] = 0\n",
        "      G.add_nodes_from(removed_nodes)\n",
        "      for e in removed_edges:\n",
        "        G.add_edge(e[0], e[1])\n",
        "    return characteristic_function"
      ]
    },
    {
      "cell_type": "code",
      "execution_count": null,
      "metadata": {
        "id": "T_2jF9SIB75X"
      },
      "outputs": [],
      "source": [
        "# @title characteristic function from the example\n",
        "if POINT_1:\n",
        "  characteristic_function: dict = {frozenset(): 0, frozenset({\"1\"}): 0, frozenset({\"2\"}): 0, frozenset({\"3\"}): 0, frozenset({\"4\"}): 0,\n",
        "                                  frozenset({\"1\", \"2\"}): 0, frozenset({\"1\", \"3\"}): 100, frozenset({\"1\", \"4\"}): 100,\n",
        "                                  frozenset({\"2\", \"3\"}): 0, frozenset({\"2\", \"4\"}): 100, frozenset({\"3\", \"4\"}): 0,\n",
        "                                  frozenset({\"1\", \"2\", \"4\"}): 100, frozenset({\"1\", \"3\", \"4\"}): 100, frozenset({\"2\", \"3\", \"1\"}): 100,\n",
        "                                  frozenset({\"2\", \"3\", \"4\"}): 100, frozenset({\"1\", \"2\", \"3\", \"4\"}): 100}"
      ]
    },
    {
      "cell_type": "code",
      "execution_count": null,
      "metadata": {
        "id": "6vKbR5ruBiQi"
      },
      "outputs": [],
      "source": [
        "# @title Shapley value with optimized characteristic function\n",
        "if POINT_1:\n",
        "  def shapley_value(player, characteristic_function):\n",
        "      player = frozenset([player])\n",
        "      player_list = max(characteristic_function)\n",
        "      N = len(player_list)\n",
        "      shapley_val = 0\n",
        "      for coalition in characteristic_function:\n",
        "          S = len(coalition)\n",
        "          if S == 0:\n",
        "            continue\n",
        "          coalition_without_player = coalition - player\n",
        "          marginal_contribution = 0\n",
        "          if coalition_without_player not in characteristic_function:\n",
        "              marginal_contribution = 100\n",
        "\n",
        "          shapley_val += ((factorial(N - S) * factorial(S - 1)) / factorial(N)) * marginal_contribution\n",
        "      return round(shapley_val, 10)\n",
        "\n",
        "  def shapley(characteristic_function, all_nodes):\n",
        "      return {player: shapley_value(player, characteristic_function) for player in list(all_nodes)}"
      ]
    },
    {
      "cell_type": "code",
      "execution_count": null,
      "metadata": {
        "id": "TdR5EhJESXYd"
      },
      "outputs": [],
      "source": [
        "# @title Shapley value with standard characteristic from lab solutions\n",
        "if POINT_1:\n",
        "  # We now implement the Shapley value for a given player, using the second equation\n",
        "  def shapley_value_lab(player, characteristic_function):\n",
        "      player_list = max(characteristic_function)\n",
        "      player = set([player])\n",
        "      N = len(player_list)\n",
        "      coalitions = powerset(player_list)\n",
        "      shapley_val = 0\n",
        "      for coalition in coalitions:\n",
        "          S = len(coalition)\n",
        "          if S == 0:\n",
        "            continue\n",
        "          marginal_contribution = characteristic_function[coalition] - (characteristic_function[coalition - player] if len(coalition - player) > 0 else 0)\n",
        "          shapley_val += ((factorial(N - S) * factorial(S - 1)) / factorial(N)) * marginal_contribution\n",
        "      return round(shapley_val, 10)\n",
        "\n",
        "  # This function returns a dictionary with the Shapley value for each player\n",
        "  def shapley_lab(characteristic_function):\n",
        "      # To get the grand coalition from the characteristic function, we can use the function max\n",
        "      return {player: shapley_value_lab(player, characteristic_function) for player in max(characteristic_function)}"
      ]
    },
    {
      "cell_type": "code",
      "execution_count": null,
      "metadata": {
        "id": "-1AtVXvo_va0"
      },
      "outputs": [],
      "source": [
        "# @title compare shapley value result with tolerance\n",
        "if POINT_1:\n",
        "  def compare_dictionaries(dict1, dict2, tolerance=0):\n",
        "      if set(dict1.keys()) != set(dict2.keys()):\n",
        "          return False\n",
        "\n",
        "      for key in dict1:\n",
        "          if isinstance(dict1[key], int) and isinstance(dict2[key], int):\n",
        "              if abs(dict1[key] - dict2[key]) > tolerance:\n",
        "                  return False\n",
        "          elif dict1[key] != dict2[key]:\n",
        "              return False\n",
        "\n",
        "      return True"
      ]
    },
    {
      "cell_type": "code",
      "execution_count": null,
      "metadata": {
        "id": "A9-OwWaADfLJ"
      },
      "outputs": [],
      "source": [
        "# @title Inappropriate benchmarking\n",
        "if POINT_1:\n",
        "  import random\n",
        "  def make_comparison(num_comparisons: int):\n",
        "    smart_solved_instances_times = []\n",
        "    naive_solved_instances_times = []\n",
        "\n",
        "    for i in range(num_comparisons):\n",
        "      # create a random graph with fixed parameters\n",
        "      num_nodes = randint(13, 18)\n",
        "      density = random.uniform(0.1, 0.5)\n",
        "      # TODO these names are not appropriate\n",
        "      # add edges of the type {s, n} and {n, t} in the graph\n",
        "      # (these { indicate the set repr. of edges\n",
        "      # which is more appropriate in undirected graphs)\n",
        "      edges_outcoming_from_s = randint(2, 3)\n",
        "      edges_incoming_on_t = randint(2, 3)\n",
        "      print(f\"Generating node with num nodes: {num_nodes} and density: {density}\")\n",
        "      G = generate_random_graph_from_parameters(num_nodes, density, edges_outcoming_from_s, edges_incoming_on_t)\n",
        "      all_nodes = list(G.nodes())\n",
        "      all_nodes.remove('s')\n",
        "      all_nodes.remove('t')\n",
        "      characteristic_function_smart = compute_characteristic_function(G, False)\n",
        "      start_time = time.time()\n",
        "      shapley_values_smart = shapley(characteristic_function_smart, all_nodes)\n",
        "      end_time = time.time()\n",
        "      print(shapley_values_smart)\n",
        "      smart_solved_instance_time = end_time-start_time\n",
        "      print(f\"Smart computation took {smart_solved_instance_time}\")\n",
        "\n",
        "      characteristic_function_naive = compute_characteristic_function(G, True)\n",
        "      start_time = time.time()\n",
        "      shapley_values_naive = shapley_lab(characteristic_function_naive)\n",
        "      end_time = time.time()\n",
        "      print(shapley_values_naive)\n",
        "      naive_solved_instance_time = end_time-start_time\n",
        "      print(f\"Naive computation took {naive_solved_instance_time}\")\n",
        "\n",
        "      if not compare_dictionaries(shapley_values_smart, shapley_values_naive, tolerance = 0.0001):\n",
        "        print(\"ERROR: Shapley values for the two implementations do not coincide\")\n",
        "        #for debugging purposes\n",
        "        #return G\n",
        "      else:\n",
        "        smart_solved_instances_times.append(smart_solved_instance_time)\n",
        "        naive_solved_instances_times.append(naive_solved_instance_time)\n",
        "\n",
        "    print(\"ALL DONE! No errors found\")\n",
        "    return (smart_solved_instances_times, naive_solved_instances_times)\n",
        "\n",
        "\n"
      ]
    },
    {
      "cell_type": "code",
      "execution_count": null,
      "metadata": {
        "colab": {
          "base_uri": "https://localhost:8080/"
        },
        "id": "rnHvLyCAPgal",
        "outputId": "02ddf676-9b27-4ad9-d50e-89a26f5e1d72"
      },
      "outputs": [
        {
          "name": "stdout",
          "output_type": "stream",
          "text": [
            "Generating node with num nodes: 16 and density: 0.3224014262526028\n",
            "{'1': 0.0, '2': 0.2572427572, '3': 0.1598401598, '4': 0.2752802753, '5': 17.4975024975, '6': 0.0083250083, '7': 2.5588300588, '8': 0.2608502609, '9': 2.1403596404, '10': 6.3683538684, '11': 0.3932178932, '12': 61.9635919636, '13': 4.7594072594, '14': 0.1237651238, '15': 3.035020535, '16': 0.1984126984}\n",
            "Smart computation took 1.0215845108032227\n",
            "{'3': 0.1598401598, '11': 0.3932178932, '14': 0.1237651238, '2': 0.2572427572, '7': 2.5588300588, '8': 0.2608502609, '13': 4.7594072594, '15': 3.035020535, '10': 6.3683538684, '12': 61.9635919636, '5': 17.4975024975, '1': 0.0, '16': 0.1984126984, '4': 0.2752802753, '9': 2.1403596404, '6': 0.0083250083}\n",
            "Naive computation took 6.033766269683838\n",
            "Generating node with num nodes: 18 and density: 0.4723765052586498\n",
            "{'1': 0.0045787546, '2': 0.327034077, '3': 0.327034077, '4': 0.0650738151, '5': 15.3592241092, '6': 0.0295537796, '7': 0.0745088245, '8': 0.327034077, '9': 0.0295537796, '10': 0.111000111, '11': 15.3592241092, '12': 66.9937007438, '13': 0.0, '14': 0.1921689422, '15': 0.327034077, '16': 0.0717338217, '17': 0.327034077, '18': 0.0745088245}\n",
            "Smart computation took 6.345836877822876\n",
            "{'3': 0.327034077, '11': 15.3592241092, '14': 0.1921689422, '2': 0.327034077, '7': 0.0745088245, '17': 0.327034077, '8': 0.327034077, '13': 0.0, '15': 0.327034077, '10': 0.111000111, '12': 66.9937007438, '5': 15.3592241092, '1': 0.0045787546, '16': 0.0717338217, '18': 0.0745088245, '4': 0.0650738151, '9': 0.0295537796, '6': 0.0295537796}\n",
            "Naive computation took 32.650038719177246\n",
            "Generating node with num nodes: 14 and density: 0.29314291750623106\n",
            "{'1': 11.0714285714, '2': 0.3571428571, '3': 2.0238095238, '4': 17.0238095238, '5': 0.0, '6': 0.0, '7': 33.6904761905, '8': 10.3571428571, '9': 0.0, '10': 0.0, '11': 0.0, '12': 2.7380952381, '13': 0.0, '14': 22.7380952381}\n",
            "Smart computation took 0.20572781562805176\n",
            "{'3': 2.0238095238, '11': 0.0, '14': 22.7380952381, '2': 0.3571428571, '7': 33.6904761905, '8': 10.3571428571, '13': 0.0, '10': 0.0, '12': 2.7380952381, '5': 0.0, '1': 11.0714285714, '4': 17.0238095238, '9': 0.0, '6': 0.0}\n",
            "Naive computation took 0.9626204967498779\n",
            "Generating node with num nodes: 13 and density: 0.1406993401280644\n",
            "{'1': 0.0, '2': 0.0, '3': 2.380952381, '4': 0.0, '5': 0.0, '6': 2.380952381, '7': 27.380952381, '8': 0.0, '9': 27.380952381, '10': 0.0, '11': 2.380952381, '12': 27.380952381, '13': 10.7142857143}\n",
            "Smart computation took 0.008071660995483398\n",
            "{'3': 2.380952381, '11': 2.380952381, '2': 0.0, '7': 27.380952381, '8': 0.0, '13': 10.7142857143, '10': 0.0, '12': 27.380952381, '5': 0.0, '1': 0.0, '4': 0.0, '9': 27.380952381, '6': 2.380952381}\n",
            "Naive computation took 0.3547673225402832\n",
            "Generating node with num nodes: 13 and density: 0.40246721752995307\n",
            "{'1': 1.5512265512, '2': 0.1226551227, '3': 14.8845598846, '4': 0.7142857143, '5': 0.8369408369, '6': 11.1940836941, '7': 1.1544011544, '8': 0.1623376623, '9': 48.2178932179, '10': 12.1067821068, '11': 0.0, '12': 9.0115440115, '13': 0.0432900433}\n",
            "Smart computation took 0.0952296257019043\n",
            "{'3': 14.8845598846, '11': 0.0, '2': 0.1226551227, '7': 1.1544011544, '8': 0.1623376623, '13': 0.0432900433, '10': 12.1067821068, '12': 9.0115440115, '5': 0.8369408369, '1': 1.5512265512, '4': 0.7142857143, '9': 48.2178932179, '6': 11.1940836941}\n",
            "Naive computation took 0.4836606979370117\n",
            "Generating node with num nodes: 16 and density: 0.2987437969497704\n",
            "{'1': 6.2803862804, '2': 0.0277500278, '3': 10.2125652126, '4': 8.0624930625, '5': 2.5394050394, '6': 1.3561438561, '7': 0.4625929626, '8': 0.1598401598, '9': 0.337995338, '10': 15.0011100011, '11': 7.4636474636, '12': 0.5960705961, '13': 19.3287268287, '14': 0.897990898, '15': 20.2533577534, '16': 7.0199245199}\n",
            "Smart computation took 0.7325842380523682\n",
            "{'3': 10.2125652126, '11': 7.4636474636, '14': 0.897990898, '2': 0.0277500278, '7': 0.4625929626, '8': 0.1598401598, '13': 19.3287268287, '15': 20.2533577534, '10': 15.0011100011, '12': 0.5960705961, '5': 2.5394050394, '1': 6.2803862804, '16': 7.0199245199, '4': 8.0624930625, '9': 0.337995338, '6': 1.3561438561}\n",
            "Naive computation took 6.79136848449707\n",
            "Generating node with num nodes: 16 and density: 0.33707249059240674\n",
            "{'1': 10.9632034632, '2': 1.3997113997, '3': 0.5266955267, '4': 0.6854256854, '5': 0.0865800866, '6': 5.0901875902, '7': 0.0, '8': 3.3802308802, '9': 1.1616161616, '10': 25.5266955267, '11': 18.4235209235, '12': 25.5266955267, '13': 7.0238095238, '14': 0.0, '15': 0.2056277056, '16': 0.0}\n",
            "Smart computation took 0.8951437473297119\n",
            "{'3': 0.5266955267, '11': 18.4235209235, '14': 0.0, '2': 1.3997113997, '7': 0.0, '8': 3.3802308802, '13': 7.0238095238, '15': 0.2056277056, '10': 25.5266955267, '12': 25.5266955267, '5': 0.0865800866, '1': 10.9632034632, '16': 0.0, '4': 0.6854256854, '9': 1.1616161616, '6': 5.0901875902}\n",
            "Naive computation took 6.5347325801849365\n",
            "Generating node with num nodes: 17 and density: 0.33467921984552806\n",
            "{'1': 0.0, '2': 0.0, '3': 0.0, '4': 0.0, '5': 0.0, '6': 0.0, '7': 0.0, '8': 50.0, '9': 0.0, '10': 0.0, '11': 50.0, '12': 0.0, '13': 0.0, '14': 0.0, '15': 0.0, '16': 0.0, '17': 0.0}\n",
            "Smart computation took 2.7919259071350098\n",
            "{'3': 0.0, '11': 50.0, '14': 0.0, '2': 0.0, '7': 0.0, '17': 0.0, '8': 50.0, '13': 0.0, '15': 0.0, '10': 0.0, '12': 0.0, '5': 0.0, '1': 0.0, '16': 0.0, '4': 0.0, '9': 0.0, '6': 0.0}\n",
            "Naive computation took 15.298795938491821\n",
            "Generating node with num nodes: 18 and density: 0.42031554110410807\n",
            "{'1': 0.586480513, '2': 0.8618995384, '3': 0.0290803967, '4': 15.2389114154, '5': 10.8872908138, '6': 0.6944281209, '7': 0.1476138241, '8': 0.1388725653, '9': 24.9448998714, '10': 31.9055780821, '11': 0.030508707, '12': 0.1360975626, '13': 0.0524883613, '14': 12.0668057433, '15': 0.030508707, '16': 1.3103399868, '17': 0.0971087736, '18': 0.8410870176}\n",
            "Smart computation took 5.5023956298828125\n",
            "{'3': 0.0290803967, '11': 0.030508707, '14': 12.0668057433, '2': 0.8618995384, '7': 0.1476138241, '17': 0.0971087736, '8': 0.1388725653, '13': 0.0524883613, '15': 0.030508707, '10': 31.9055780821, '12': 0.1360975626, '5': 10.8872908138, '1': 0.586480513, '16': 1.3103399868, '18': 0.8410870176, '4': 15.2389114154, '9': 24.9448998714, '6': 0.6944281209}\n",
            "Naive computation took 32.48573875427246\n",
            "Generating node with num nodes: 14 and density: 0.22052759048230983\n",
            "{'1': 5.7142857143, '2': 0.0, '3': 1.3095238095, '4': 0.0, '5': 21.6666666667, '6': 1.6666666667, '7': 0.0, '8': 17.380952381, '9': 6.4285714286, '10': 14.4047619048, '11': 0.0, '12': 19.7619047619, '13': 11.6666666667, '14': 0.0}\n",
            "Smart computation took 0.21270298957824707\n",
            "{'3': 1.3095238095, '11': 0.0, '14': 0.0, '2': 0.0, '7': 0.0, '8': 17.380952381, '13': 11.6666666667, '10': 14.4047619048, '12': 19.7619047619, '5': 21.6666666667, '1': 5.7142857143, '4': 0.0, '9': 6.4285714286, '6': 1.6666666667}\n",
            "Naive computation took 1.0582830905914307\n",
            "Generating node with num nodes: 16 and density: 0.20956078508929782\n",
            "{'1': 0.0, '2': 0.0, '3': 0.0, '4': 0.0, '5': 0.0, '6': 0.0, '7': 0.0, '8': 0.0, '9': 0.0, '10': 0.0, '11': 0.0, '12': 0.0, '13': 0.0, '14': 100.0000000001, '15': 0.0, '16': 0.0}\n",
            "Smart computation took 0.8249757289886475\n",
            "{'3': 0.0, '11': 0.0, '14': 100.0000000001, '2': 0.0, '7': 0.0, '8': 0.0, '13': 0.0, '15': 0.0, '10': 0.0, '12': 0.0, '5': 0.0, '1': 0.0, '16': 0.0, '4': 0.0, '9': 0.0, '6': 0.0}\n",
            "Naive computation took 6.652807235717773\n",
            "Generating node with num nodes: 14 and density: 0.47488915263541953\n",
            "{'1': 59.4866244866, '2': 0.053002553, '3': 0.337995338, '4': 0.0782550783, '5': 0.439005439, '6': 0.5580530581, '7': 0.2947052947, '8': 22.0443445443, '9': 9.4866244866, '10': 5.3776778777, '11': 0.3957153957, '12': 0.0, '13': 0.2947052947, '14': 1.1532911533}\n",
            "Smart computation took 0.18706488609313965\n",
            "{'3': 0.337995338, '11': 0.3957153957, '14': 1.1532911533, '2': 0.053002553, '7': 0.2947052947, '8': 22.0443445443, '13': 0.2947052947, '10': 5.3776778777, '12': 0.0, '5': 0.439005439, '1': 59.4866244866, '4': 0.0782550783, '9': 9.4866244866, '6': 0.5580530581}\n",
            "Naive computation took 1.170830488204956\n",
            "Generating node with num nodes: 14 and density: 0.28581641722951345\n",
            "{'1': 7.380952381, '2': 4.0476190476, '3': 0.0, '4': 0.0, '5': 2.380952381, '6': 0.0, '7': 15.7142857143, '8': 64.0476190476, '9': 2.380952381, '10': 0.0, '11': 0.0, '12': 4.0476190476, '13': 0.0, '14': 0.0}\n",
            "Smart computation took 0.20894908905029297\n",
            "{'3': 0.0, '11': 0.0, '14': 0.0, '2': 4.0476190476, '7': 15.7142857143, '8': 64.0476190476, '13': 0.0, '10': 0.0, '12': 4.0476190476, '5': 2.380952381, '1': 7.380952381, '4': 0.0, '9': 2.380952381, '6': 0.0}\n",
            "Naive computation took 1.2384212017059326\n",
            "Generating node with num nodes: 15 and density: 0.12462303339786157\n",
            "{'1': 3.7265512266, '2': 0.0, '3': 3.7265512266, '4': 3.7265512266, '5': 6.7027417027, '6': 1.2698412698, '7': 6.9408369408, '8': 28.5281385281, '9': 3.7265512266, '10': 0.0, '11': 3.7265512266, '12': 27.2582972583, '13': 6.9408369408, '14': 0.0, '15': 3.7265512266}\n",
            "Smart computation took 0.22661662101745605\n",
            "{'3': 3.7265512266, '11': 3.7265512266, '14': 0.0, '2': 0.0, '7': 6.9408369408, '8': 28.5281385281, '13': 6.9408369408, '15': 3.7265512266, '10': 0.0, '12': 27.2582972583, '5': 6.7027417027, '1': 3.7265512266, '4': 3.7265512266, '9': 3.7265512266, '6': 1.2698412698}\n",
            "Naive computation took 2.7986154556274414\n",
            "Generating node with num nodes: 17 and density: 0.12490488167364618\n",
            "{'1': 5.0, '2': 0.0, '3': 0.0, '4': 0.0, '5': 0.0, '6': 0.0, '7': 0.0, '8': 0.0, '9': 0.0, '10': 0.0, '11': 5.0, '12': 5.0, '13': 80.0, '14': 0.0, '15': 5.0, '16': 0.0, '17': 0.0}\n",
            "Smart computation took 1.8309333324432373\n",
            "{'3': 0.0, '11': 5.0, '14': 0.0, '2': 0.0, '7': 0.0, '17': 0.0, '8': 0.0, '13': 80.0, '15': 5.0, '10': 0.0, '12': 5.0, '5': 0.0, '1': 5.0, '16': 0.0, '4': 0.0, '9': 0.0, '6': 0.0}\n",
            "Naive computation took 15.594739437103271\n",
            "Generating node with num nodes: 14 and density: 0.21989265597820518\n",
            "{'1': 13.7698412698, '2': 0.0, '3': 26.8253968254, '4': 4.7619047619, '5': 13.0555555556, '6': 0.6746031746, '7': 0.6746031746, '8': 4.4841269841, '9': 1.746031746, '10': 0.6746031746, '11': 26.1507936508, '12': 0.3571428571, '13': 0.0, '14': 6.8253968254}\n",
            "Smart computation took 0.1281595230102539\n",
            "{'3': 26.8253968254, '11': 26.1507936508, '14': 6.8253968254, '2': 0.0, '7': 0.6746031746, '8': 4.4841269841, '13': 0.0, '10': 0.6746031746, '12': 0.3571428571, '5': 13.0555555556, '1': 13.7698412698, '4': 4.7619047619, '9': 1.746031746, '6': 0.6746031746}\n",
            "Naive computation took 1.1526033878326416\n",
            "Generating node with num nodes: 18 and density: 0.26054086300754087\n",
            "{'1': 7.195027195, '2': 12.6454101454, '3': 0.0, '4': 0.341047841, '5': 6.9533244533, '6': 12.5785325785, '7': 51.1663336664, '8': 0.0, '9': 0.7384282384, '10': 3.6807636808, '11': 0.2242202242, '12': 0.2561327561, '13': 0.7345432345, '14': 0.0685425685, '15': 1.6641691642, '16': 1.186036186, '17': 0.5272505273, '18': 0.0402375402}\n",
            "Smart computation took 5.194499492645264\n",
            "{'3': 0.0, '11': 0.2242202242, '14': 0.0685425685, '2': 12.6454101454, '7': 51.1663336664, '17': 0.5272505273, '8': 0.0, '13': 0.7345432345, '15': 1.6641691642, '10': 3.6807636808, '12': 0.2561327561, '5': 6.9533244533, '1': 7.195027195, '16': 1.186036186, '18': 0.0402375402, '4': 0.341047841, '9': 0.7384282384, '6': 12.5785325785}\n",
            "Naive computation took 31.57453155517578\n",
            "Generating node with num nodes: 17 and density: 0.15992895834365678\n",
            "{'1': 0.753968254, '2': 1.4213564214, '3': 0.0, '4': 22.0634920635, '5': 1.8073593074, '6': 0.6565656566, '7': 0.6565656566, '8': 27.5396825397, '9': 0.0, '10': 0.6757131757, '11': 0.5436230436, '12': 14.733044733, '13': 18.1060606061, '14': 0.0, '15': 5.6385281385, '16': 0.8874458874, '17': 4.5165945166}\n",
            "Smart computation took 1.6317517757415771\n",
            "{'3': 0.0, '11': 0.5436230436, '14': 0.0, '2': 1.4213564214, '7': 0.6565656566, '17': 4.5165945166, '8': 27.5396825397, '13': 18.1060606061, '15': 5.6385281385, '10': 0.6757131757, '12': 14.733044733, '5': 1.8073593074, '1': 0.753968254, '16': 0.8874458874, '4': 22.0634920635, '9': 0.0, '6': 0.6565656566}\n",
            "Naive computation took 14.746970415115356\n",
            "Generating node with num nodes: 18 and density: 0.20143571955057624\n",
            "{'1': 0.0, '2': 55.0, '3': 0.0, '4': 0.0, '5': 5.0, '6': 0.0, '7': 0.0, '8': 0.0, '9': 0.0, '10': 0.0, '11': 5.0, '12': 0.0, '13': 0.0, '14': 5.0, '15': 0.0, '16': 0.0, '17': 30.0, '18': 0.0}\n",
            "Smart computation took 2.011986494064331\n",
            "{'3': 0.0, '11': 5.0, '14': 5.0, '2': 55.0, '7': 0.0, '17': 30.0, '8': 0.0, '13': 0.0, '15': 0.0, '10': 0.0, '12': 0.0, '5': 5.0, '1': 0.0, '16': 0.0, '18': 0.0, '4': 0.0, '9': 0.0, '6': 0.0}\n",
            "Naive computation took 33.49140810966492\n",
            "Generating node with num nodes: 14 and density: 0.3854221313575402\n",
            "{'1': 0.670995671, '2': 1.3852813853, '3': 0.670995671, '4': 8.7265512266, '5': 0.0757575758, '6': 0.670995671, '7': 0.0757575758, '8': 4.1233766234, '9': 0.0, '10': 18.7265512266, '11': 0.7142857143, '12': 61.3852813853, '13': 2.7741702742, '14': 0.0}\n",
            "Smart computation took 0.23338675498962402\n",
            "{'3': 0.670995671, '11': 0.7142857143, '14': 0.0, '2': 1.3852813853, '7': 0.0757575758, '8': 4.1233766234, '13': 2.7741702742, '10': 18.7265512266, '12': 61.3852813853, '5': 0.0757575758, '1': 0.670995671, '4': 8.7265512266, '9': 0.0, '6': 0.670995671}\n",
            "Naive computation took 0.960740327835083\n",
            "ALL DONE! No errors found\n"
          ]
        }
      ],
      "source": [
        "if POINT_1 and EXPERIMENTS:\n",
        "  num_comparisons = 20\n",
        "  results = make_comparison(num_comparisons)"
      ]
    },
    {
      "cell_type": "code",
      "execution_count": null,
      "metadata": {
        "id": "kALVqVZAWT9p"
      },
      "outputs": [],
      "source": [
        "# @title Block for checking solution after submission\n",
        "# TODO just define your graph here and remove all comments\n",
        "# if POINT_1 and SINGLE_BENCHMARK:\n",
        "  # G=nx.Graph()\n",
        "  # nodes = ['s', 't', '1', '2', '3', '4']\n",
        "  # edges = [('s', '1'), ('s', '2'), ('1', '3'), ('1', '4'), #('3','4'),('3','2'),\n",
        "  #         ('2', '4'), ('3', 't'), ('4', 't')]\n",
        "  # G.add_nodes_from(nodes)\n",
        "  # G.add_edges_from(edges)\n",
        "\n",
        "  # print(f\"Nodes: {G.nodes()}\")\n",
        "  # print(f\"Edges: {G.edges()}\")\n",
        "\n",
        "  # characteristic_function_smart = compute_characteristic_function(G, False)\n",
        "  # start_time = time.time()\n",
        "  # shapley_values_smart = shapley(characteristic_function_smart)\n",
        "  # end_time = time.time()\n",
        "  # print(shapley_values_smart)\n",
        "  # smart_solved_instance_time = end_time-start_time\n",
        "  # print(f\"Smart computation took {smart_solved_instance_time}\")\n",
        "\n",
        "  # characteristic_function_naive = compute_characteristic_function(G, True)\n",
        "  # start_time = time.time()\n",
        "  # shapley_values_naive = shapley_lab(characteristic_function_naive)\n",
        "  # end_time = time.time()\n",
        "  # print(shapley_values_naive)\n",
        "  # naive_solved_instance_time = end_time-start_time\n",
        "  # print(f\"Naive computation took {naive_solved_instance_time}\")\n",
        "\n",
        "  # if not compare_dictionaries(shapley_values_smart, shapley_values_naive, tolerance = 0.0001):\n",
        "  #   print(\"ERROR: Shapley values for the two implementations do not coincide\")\n",
        "  # else:\n",
        "  #   print(\"ALL DONE! No errors found\")"
      ]
    },
    {
      "cell_type": "code",
      "execution_count": null,
      "metadata": {
        "colab": {
          "base_uri": "https://localhost:8080/",
          "height": 507
        },
        "id": "oqwxoKWHNAT-",
        "outputId": "7bdad2e1-cb8f-4f37-9592-dc2d1a6efd85"
      },
      "outputs": [
        {
          "name": "stdout",
          "output_type": "stream",
          "text": [
            "1.5144763350486756\n",
            "10.601771998405457\n"
          ]
        },
        {
          "data": {
            "image/png": "[encoded data removed]",
            "text/plain": [
              "<Figure size 640x480 with 1 Axes>"
            ]
          },
          "metadata": {},
          "output_type": "display_data"
        }
      ],
      "source": [
        "# @title Cactus plot of results\n",
        "from statistics import mean\n",
        "if POINT_1 and EXPERIMENTS:\n",
        "  x_smart = results[0]\n",
        "  y = [i for i in range(num_comparisons)]\n",
        "\n",
        "  x_naive = results[1]\n",
        "\n",
        "  x_smart.sort()\n",
        "  x_naive.sort()\n",
        "\n",
        "  print(mean(x_smart))\n",
        "  print(mean(x_naive))\n",
        "\n",
        "  plt.plot(y, x_naive, marker='o', linestyle='-', label='naive version')\n",
        "  plt.plot(y, x_smart,  marker='x', linestyle='-', label='smart version')\n",
        "\n",
        "  plt.ylabel('Solved instances')\n",
        "  plt.xlabel('time')\n",
        "  plt.title('Shapley values')\n",
        "\n",
        "  plt.legend()\n",
        "\n",
        "  plt.show()\n"
      ]
    },
    {
      "cell_type": "code",
      "execution_count": null,
      "metadata": {
        "id": "uL6JFyTJgayV"
      },
      "outputs": [],
      "source": [
        "# @title Check that the two created characteristic function represent the same thing\n",
        "if POINT_1:\n",
        "  # the naive and smart characteristic function should have the same meaning\n",
        "  def check_characteristic_functions(characteristic_function, characteristic_function_1):\n",
        "    for coalition in characteristic_function.keys():\n",
        "\n",
        "      if coalition in characteristic_function_1:\n",
        "        if 100 != characteristic_function_1[coalition]:\n",
        "          #print(\"Error\")\n",
        "          return False\n",
        "      else:\n",
        "        if characteristic_function[coalition] != 0:\n",
        "          #print(\"Error\")\n",
        "          return False\n",
        "    return True"
      ]
    },
    {
      "cell_type": "markdown",
      "metadata": {
        "id": "nGUcOyR0ZgY8"
      },
      "source": [
        "# Assignment 2"
      ]
    },
    {
      "cell_type": "code",
      "execution_count": null,
      "metadata": {
        "id": "8TW_5xZ1W7Tz"
      },
      "outputs": [],
      "source": [
        "# @title Compute always cooperating players as the players with <=2 neighbours\n",
        "if POINT_2:\n",
        "  # nodes with less than 3 neighbours are always cooperating\n",
        "  def compute_always_cooperating_players(G):\n",
        "    always_cooperating_players = []\n",
        "    all_nodes = list(G.nodes())\n",
        "    all_nodes.remove('s')\n",
        "    all_nodes.remove('t')\n",
        "\n",
        "    source_and_destination = ['s', 't']\n",
        "    removed_edges = list(G.edges(source_and_destination))\n",
        "    G.remove_nodes_from(source_and_destination)\n",
        "\n",
        "    nodes_to_degree = dict(G.degree())\n",
        "    for node in all_nodes:\n",
        "      if nodes_to_degree[node] <= 2:\n",
        "        always_cooperating_players.append(node)\n",
        "\n",
        "    G.add_nodes_from(source_and_destination)\n",
        "    for e in removed_edges:\n",
        "      G.add_edge(e[0], e[1])\n",
        "    return always_cooperating_players"
      ]
    },
    {
      "cell_type": "code",
      "execution_count": null,
      "metadata": {
        "id": "CTrwnqjnrB4W"
      },
      "outputs": [],
      "source": [
        "# @title compute payoffs for players in G\n",
        "if POINT_2:\n",
        "  def compute_payoffs(G, always_cooperating_players, naive: bool):\n",
        "    payoffs: dict = {}\n",
        "    all_nodes = list(G.nodes())\n",
        "    all_nodes.remove('s')\n",
        "    all_nodes.remove('t')\n",
        "    all_strategy_profiles = powerset(all_nodes)\n",
        "\n",
        "    all_nodes_int = [int(node) for node in all_nodes]\n",
        "    all_nodes_int.sort()\n",
        "\n",
        "    for strategy_profile in all_strategy_profiles:\n",
        "      # do not compute payoffs for stategies in which always\n",
        "      # cooperating players are defecting because these will never be equilibria\n",
        "      # Or better: they may be equlibria, but so will be also the strategy in\n",
        "      # which such player is cooperating instead of defecting. Therefore we can\n",
        "      # remove these kind of strategies without loss of soundness or\n",
        "      # completeness for the proposed task\n",
        "      if not naive:\n",
        "        skip_strategy = False\n",
        "        for player in always_cooperating_players:\n",
        "          if player not in strategy_profile:\n",
        "            skip_strategy = True\n",
        "            break\n",
        "\n",
        "        if len(strategy_profile) == 0 and len(always_cooperating_players) > 0:\n",
        "          skip_strategy = True\n",
        "\n",
        "        if skip_strategy:\n",
        "          continue\n",
        "\n",
        "      removed_nodes = []\n",
        "      #if coalition not in characteristic function\n",
        "      for node in all_nodes:\n",
        "\n",
        "        if node not in strategy_profile:\n",
        "          removed_nodes.append(node)\n",
        "\n",
        "      removed_edges = list(G.edges(removed_nodes))\n",
        "      G.remove_nodes_from(removed_nodes)\n",
        "      #check that a path s-t exists in the subgraph\n",
        "      #made of the nodes in the subset and the edges\n",
        "      #incident to such nodes\n",
        "\n",
        "      payoffs[strategy_profile] = []\n",
        "      if nx.has_path(G, 's', 't'):\n",
        "        #set 1 for players that have not more than 2 neighbours cooperating\n",
        "        # -1 otherwise\n",
        "        for player in all_nodes_int:\n",
        "          player = str(player)\n",
        "          if player in strategy_profile:\n",
        "            neigh_cooperating = list(G.neighbors(player))\n",
        "            num_neigh_cooperating = len(neigh_cooperating)\n",
        "            #s and t are not considered in the count\n",
        "            if 's' in neigh_cooperating:\n",
        "              num_neigh_cooperating -= 1\n",
        "            if 't' in neigh_cooperating:\n",
        "              num_neigh_cooperating -= 1\n",
        "\n",
        "            #print(\"WE\", len(list(G.neighbors(player))))\n",
        "            #constraint violated\n",
        "            if num_neigh_cooperating > 2:\n",
        "              payoffs[strategy_profile].append(-1)\n",
        "            #cooperation and path forms\n",
        "            else:\n",
        "              payoffs[strategy_profile].append(1)\n",
        "            #no cooperation but path forms\n",
        "          else:\n",
        "            payoffs[strategy_profile].append(-0.5)\n",
        "        #for all players in the game\n",
        "      else:\n",
        "        for player in all_nodes_int:\n",
        "          # no path but cooperating\n",
        "          #payoffs[strategy_profile].append(-1)\n",
        "          player = str(player)\n",
        "          if player in strategy_profile:\n",
        "            neigh_cooperating = list(G.neighbors(player))\n",
        "            num_neigh_cooperating = len(neigh_cooperating)\n",
        "            #s and t are not considered in the count\n",
        "            if 's' in neigh_cooperating:\n",
        "              num_neigh_cooperating -= 1\n",
        "            if 't' in neigh_cooperating:\n",
        "              num_neigh_cooperating -= 1\n",
        "            if num_neigh_cooperating > 2:\n",
        "              payoffs[strategy_profile].append(-1)\n",
        "            else:\n",
        "              payoffs[strategy_profile].append(0)\n",
        "          # # no path and defecting\n",
        "          else:\n",
        "            payoffs[strategy_profile].append(-0.5)\n",
        "      G.add_nodes_from(removed_nodes)\n",
        "      for e in removed_edges:\n",
        "        G.add_edge(e[0], e[1])\n",
        "    #payoffs[frozenset()] = [-0.5 for i in range(len(list(G.nodes())))]\n",
        "    return payoffs"
      ]
    },
    {
      "cell_type": "code",
      "execution_count": null,
      "metadata": {
        "id": "1eFAi7H50OEY"
      },
      "outputs": [],
      "source": [
        "# @title compute Nash Equilibrium - Naive approach\n",
        "if POINT_2:\n",
        "  def compute_nash_equilibrium_naive(G, payoffs, all_strategy_profiles, return_all=False):\n",
        "    all_nodes = list(G.nodes())\n",
        "    all_nodes.remove('s')\n",
        "    all_nodes.remove('t')\n",
        "    all_equilibria = []\n",
        "    for strategy_profile in all_strategy_profiles:\n",
        "      best_strategy = True\n",
        "      for player in all_nodes:\n",
        "        player_set = frozenset([player])\n",
        "        if player in strategy_profile:\n",
        "          changed_strategy = strategy_profile - player_set\n",
        "        else:\n",
        "          changed_strategy = strategy_profile.union(player_set)\n",
        "\n",
        "        if payoffs[changed_strategy][int(player)-1] > payoffs[strategy_profile][int(player)-1]:\n",
        "          best_strategy = False\n",
        "          break\n",
        "      #profile is not best strategy for some player and hence it cannot be an eq.\n",
        "      #if no player stopped the inner for (for every player the profile was\n",
        "      # a best response), then profile is an equilibrium\n",
        "      if best_strategy:\n",
        "        if not return_all:\n",
        "          return (True, strategy_profile)\n",
        "        else:\n",
        "          all_equilibria.append(strategy_profile)\n",
        "    return (len(all_equilibria) > 0, all_equilibria)\n"
      ]
    },
    {
      "cell_type": "code",
      "execution_count": null,
      "metadata": {
        "id": "-5cSO3WvWl-M"
      },
      "outputs": [],
      "source": [
        "# @title compute Nash Equilibrium - A smarter approach\n",
        "if POINT_2:\n",
        "  def compute_nash_equilibrium_smart(G, payoffs, always_cooperating_players, all_strategy_profiles, return_all=False):\n",
        "    all_nodes = list(G.nodes())\n",
        "    all_nodes.remove('s')\n",
        "    all_nodes.remove('t')\n",
        "    all_equilibria = []\n",
        "    # check only strategies for which a payoff is given\n",
        "    # N.B. strategy profiles not in payoffs are not equilibria\n",
        "    non_always_cooperating_players = frozenset(all_nodes) - frozenset(always_cooperating_players)\n",
        "\n",
        "    # trivial Nash equilibrium when no player has more than two neighbours\n",
        "    # and therefore anyone cooperates\n",
        "    if non_always_cooperating_players == frozenset():\n",
        "      return (True, frozenset(all_nodes))\n",
        "\n",
        "    for strategy_profile in payoffs.keys():\n",
        "      best_strategy = True\n",
        "      # do not check best response condition for always cooperating player\n",
        "      # since cooperating is a dominant strategy for them and only\n",
        "      # strategy profiles with them cooperating are given\n",
        "      for player in non_always_cooperating_players:\n",
        "        player_set = frozenset([player])\n",
        "        if player in strategy_profile:\n",
        "          changed_strategy = strategy_profile - player_set\n",
        "        else:\n",
        "          changed_strategy = strategy_profile.union(player_set)\n",
        "        if payoffs[changed_strategy][int(player)-1] > payoffs[strategy_profile][int(player)-1]:\n",
        "          #print(f\"strategy {changed_strategy} is better w.r.t. {strategy_profile} for player{player}\")\n",
        "          best_strategy = False\n",
        "          break\n",
        "      #profile is not best strategy for some player and hence it cannot be an eq.\n",
        "      #if no player stopped the inner for (for every player the profile was\n",
        "      # a best response), then profile is an equilibrium\n",
        "      if best_strategy:\n",
        "        if not return_all:\n",
        "          return (True, strategy_profile)\n",
        "        else:\n",
        "          all_equilibria.append(strategy_profile)\n",
        "    return (len(all_equilibria) > 0, all_equilibria)"
      ]
    },
    {
      "cell_type": "code",
      "execution_count": null,
      "metadata": {
        "id": "7iVLcV3MUhty"
      },
      "outputs": [],
      "source": [
        "# @title Benchmarking\n",
        "if POINT_2:\n",
        "  import random\n",
        "\n",
        "  def make_comparison_nash_eq(num_comparisons: int):\n",
        "    smart_solved_instances_times = []\n",
        "    naive_solved_instances_times = []\n",
        "    smart_to_check_strategy_profiles = []\n",
        "    naive_to_check_strategy_profiles = []\n",
        "    for i in range(num_comparisons):\n",
        "      # create a random graph with fixed parameters\n",
        "      num_nodes = randint(15, 18)\n",
        "      density = random.uniform(0.1, 0.5)\n",
        "      # TODO these names are not appropriate\n",
        "      # add edges of the type {s, n} and {n, t} in the graph\n",
        "      # (these { indicate the set repr. of edges\n",
        "      # which is more appropriate in undirected graphs)\n",
        "      edges_outcoming_from_s = randint(2, 3)\n",
        "      edges_incoming_on_t = randint(2, 3)\n",
        "      G = generate_random_graph_from_parameters(num_nodes, density, edges_outcoming_from_s, edges_incoming_on_t)\n",
        "      all_nodes = list(G.nodes())\n",
        "      all_nodes.remove('s')\n",
        "      all_nodes.remove('t')\n",
        "      all_strategy_profiles = powerset(all_nodes)\n",
        "      always_cooperating_players = compute_always_cooperating_players(G)\n",
        "\n",
        "      payoffs_smart = compute_payoffs(G, always_cooperating_players, False)\n",
        "      start_time = time.time()\n",
        "      nash_eq_smart = compute_nash_equilibrium_smart(G, payoffs_smart, always_cooperating_players, all_strategy_profiles)\n",
        "      end_time = time.time()\n",
        "      print(nash_eq_smart)\n",
        "      smart_solved_instance_time = end_time-start_time\n",
        "      smart_to_check_strategy_profiles.append(len(payoffs_smart.keys()))\n",
        "      print(f\"Smart computation took {smart_solved_instance_time} using {len(payoffs_smart.keys())} strategy profiles\")\n",
        "\n",
        "      payoffs_naive = compute_payoffs(G, always_cooperating_players, True)\n",
        "      start_time = time.time()\n",
        "      nash_eq_naive = compute_nash_equilibrium_naive(G, payoffs_naive, all_strategy_profiles)\n",
        "      end_time = time.time()\n",
        "      print(nash_eq_naive)\n",
        "      naive_solved_instance_time = end_time-start_time\n",
        "      naive_to_check_strategy_profiles.append(len(payoffs_naive.keys()))\n",
        "      print(f\"Naive computation took {naive_solved_instance_time} using {len(payoffs_naive.keys())} strategy profiles\")\n",
        "\n",
        "      smart_solved_instances_times.append(smart_solved_instance_time)\n",
        "      naive_solved_instances_times.append(naive_solved_instance_time)\n",
        "\n",
        "    print(\"ALL DONE!\")\n",
        "    return (smart_solved_instances_times, naive_solved_instances_times, smart_to_check_strategy_profiles, naive_to_check_strategy_profiles)\n",
        "\n"
      ]
    },
    {
      "cell_type": "code",
      "execution_count": null,
      "metadata": {
        "colab": {
          "base_uri": "https://localhost:8080/"
        },
        "id": "jG50mdzodSTX",
        "outputId": "d6782cfe-f56b-40f3-c087-2ef4fa6b3d48"
      },
      "outputs": [
        {
          "name": "stdout",
          "output_type": "stream",
          "text": [
            "(True, frozenset({'3', '11', '2', '7', '17', '8', '18', '1', '4', '6'}))\n",
            "Smart computation took 0.6480786800384521 using 262144 strategy profiles\n",
            "(True, frozenset({'3', '11', '2', '7', '17', '8', '18', '1', '4', '6'}))\n",
            "Naive computation took 0.7061336040496826 using 262144 strategy profiles\n",
            "(True, frozenset({'3', '2', '17', '8', '5', '16', '6'}))\n",
            "Smart computation took 0.1418895721435547 using 131072 strategy profiles\n",
            "(True, frozenset({'3', '2', '17', '8', '5', '16', '6'}))\n",
            "Naive computation took 0.1502857208251953 using 131072 strategy profiles\n",
            "(True, frozenset({'11', '14', '7', '2', '8', '13', '15', '10', '12', '1', '4'}))\n",
            "Smart computation took 0.021701574325561523 using 8192 strategy profiles\n",
            "(True, frozenset({'11', '14', '7', '2', '8', '13', '15', '10', '12', '1', '4'}))\n",
            "Naive computation took 0.640850305557251 using 131072 strategy profiles\n",
            "(True, frozenset({'3', '11', '7', '2', '17', '13', '15', '1', '16', '10', '9', '6'}))\n",
            "Smart computation took 0.002443075180053711 using 2048 strategy profiles\n",
            "(True, frozenset({'3', '11', '7', '2', '17', '13', '15', '1', '16', '10', '9', '6'}))\n",
            "Naive computation took 1.8605859279632568 using 262144 strategy profiles\n",
            "(True, frozenset({'14', '7', '15', '5', '1', '16', '13', '9'}))\n",
            "Smart computation took 0.14299511909484863 using 65536 strategy profiles\n",
            "(True, frozenset({'14', '7', '15', '5', '1', '16', '13', '9'}))\n",
            "Naive computation took 0.15466046333312988 using 65536 strategy profiles\n",
            "(True, frozenset({'3', '14', '7', '2', '8', '15', '10', '1', '4', '9'}))\n",
            "Smart computation took 0.0007853507995605469 using 512 strategy profiles\n",
            "(True, frozenset({'3', '14', '7', '2', '8', '15', '10', '1', '4', '9'}))\n",
            "Naive computation took 0.1323549747467041 using 32768 strategy profiles\n",
            "(True, frozenset({'3', '11', '14', '2', '7', '15', '12', '5', '1', '10', '9', '6'}))\n",
            "Smart computation took 0.00032711029052734375 using 128 strategy profiles\n",
            "(True, frozenset({'3', '11', '14', '2', '7', '15', '12', '5', '1', '10', '9', '6'}))\n",
            "Naive computation took 0.1599118709564209 using 32768 strategy profiles\n",
            "(True, frozenset({'11', '7', '13', '5', '1', '10', '9'}))\n",
            "Smart computation took 0.02880716323852539 using 16384 strategy profiles\n",
            "(True, frozenset({'11', '7', '13', '5', '1', '10', '9'}))\n",
            "Naive computation took 0.05464673042297363 using 32768 strategy profiles\n",
            "(True, frozenset({'3', '14', '13', '15', '12', '1', '10', '6'}))\n",
            "Smart computation took 0.004816532135009766 using 4096 strategy profiles\n",
            "(True, frozenset({'3', '14', '13', '15', '12', '1', '10', '6'}))\n",
            "Naive computation took 0.0868980884552002 using 32768 strategy profiles\n",
            "(True, frozenset({'3', '14', '7', '15', '5', '1', '13'}))\n",
            "Smart computation took 0.07953333854675293 using 65536 strategy profiles\n",
            "(True, frozenset({'3', '14', '7', '15', '5', '1', '13'}))\n",
            "Naive computation took 0.08658432960510254 using 65536 strategy profiles\n",
            "(True, frozenset({'14', '2', '8', '10', '1', '4', '6'}))\n",
            "Smart computation took 0.07567977905273438 using 65536 strategy profiles\n",
            "(True, frozenset({'14', '2', '8', '10', '1', '4', '6'}))\n",
            "Naive computation took 0.07277083396911621 using 65536 strategy profiles\n",
            "(True, frozenset({'3', '11', '2', '7', '17', '8', '13', '15', '10', '12', '5', '1', '18', '4', '6'}))\n",
            "Smart computation took 0.000993967056274414 using 64 strategy profiles\n",
            "(True, frozenset({'3', '11', '2', '7', '17', '8', '13', '15', '10', '12', '5', '1', '18', '4', '6'}))\n",
            "Naive computation took 1.4138906002044678 using 262144 strategy profiles\n",
            "(True, frozenset({'3', '11', '14', '7', '8', '13', '15', '12', '5', '1', '16', '18', '10'}))\n",
            "Smart computation took 0.0020346641540527344 using 1024 strategy profiles\n",
            "(True, frozenset({'3', '11', '14', '7', '8', '13', '15', '12', '5', '1', '16', '18', '10'}))\n",
            "Naive computation took 1.5347411632537842 using 262144 strategy profiles\n",
            "(True, frozenset({'3', '2', '15', '1', '16', '4'}))\n",
            "Smart computation took 0.030736684799194336 using 131072 strategy profiles\n",
            "(True, frozenset({'3', '2', '15', '1', '16', '4'}))\n",
            "Naive computation took 0.03170132637023926 using 131072 strategy profiles\n",
            "(True, frozenset({'3', '14', '2', '8', '15', '1', '16', '9', '6'}))\n",
            "Smart computation took 0.4786365032196045 using 131072 strategy profiles\n",
            "(True, frozenset({'3', '14', '2', '8', '15', '1', '16', '9', '6'}))\n",
            "Naive computation took 0.3412292003631592 using 131072 strategy profiles\n",
            "(True, frozenset({'3', '11', '7', '2', '10', '1', '16', '4', '9'}))\n",
            "Smart computation took 0.07182669639587402 using 32768 strategy profiles\n",
            "(True, frozenset({'3', '11', '7', '2', '10', '1', '16', '4', '9'}))\n",
            "Naive computation took 0.1967780590057373 using 65536 strategy profiles\n",
            "(True, frozenset({'3', '11', '2', '17', '8', '13', '15', '10', '12', '1', '4', '9', '6'}))\n",
            "Smart computation took 0.0006320476531982422 using 256 strategy profiles\n",
            "(True, frozenset({'3', '11', '2', '17', '8', '13', '15', '10', '12', '1', '4', '9', '6'}))\n",
            "Naive computation took 0.7180187702178955 using 131072 strategy profiles\n",
            "(True, frozenset({'3', '14', '2', '7', '8', '13', '15', '10', '12', '18', '1', '16', '4', '9', '6'}))\n",
            "Smart computation took 8.702278137207031e-05 using 32 strategy profiles\n",
            "(True, frozenset({'3', '14', '2', '7', '8', '13', '15', '10', '12', '18', '1', '16', '4', '9', '6'}))\n",
            "Naive computation took 1.4430062770843506 using 262144 strategy profiles\n",
            "(True, frozenset({'3', '2', '17', '8', '13', '15', '12', '1', '4', '9'}))\n",
            "Smart computation took 0.02817559242248535 using 16384 strategy profiles\n",
            "(True, frozenset({'3', '2', '17', '8', '13', '15', '12', '1', '4', '9'}))\n",
            "Naive computation took 0.5179674625396729 using 131072 strategy profiles\n",
            "(True, frozenset({'3', '11', '14', '2', '7', '8', '13', '15', '10', '5', '1', '4', '9'}))\n",
            "Smart computation took 7.653236389160156e-05 using 16 strategy profiles\n",
            "(True, frozenset({'3', '11', '14', '2', '7', '8', '13', '15', '10', '5', '1', '4', '9'}))\n",
            "Naive computation took 0.16986870765686035 using 32768 strategy profiles\n",
            "ALL DONE!\n"
          ]
        }
      ],
      "source": [
        "if POINT_2 and EXPERIMENTS:\n",
        "  num_comparisons = 20\n",
        "  results = make_comparison_nash_eq(num_comparisons)"
      ]
    },
    {
      "cell_type": "code",
      "execution_count": null,
      "metadata": {
        "colab": {
          "base_uri": "https://localhost:8080/",
          "height": 576
        },
        "id": "e2SmLzcRr4fn",
        "outputId": "ee6d7242-0fc7-47bf-a571-f306e679a736"
      },
      "outputs": [
        {
          "name": "stdout",
          "output_type": "stream",
          "text": [
            "Average time\n",
            "\tsmart -> 0.08801285028457642\n",
            "\tsmart -> 0.52364422082901\n",
            "Average of maximum strategy profiles to check\n",
            "\tsmart -> 46693.6\n",
            "\tnaive -> 126156.8\n"
          ]
        },
        {
          "data": {
            "image/png": "[encoded data removed]",
            "text/plain": [
              "<Figure size 640x480 with 1 Axes>"
            ]
          },
          "metadata": {},
          "output_type": "display_data"
        }
      ],
      "source": [
        "# @title Cactus plot of results\n",
        "if POINT_2 and EXPERIMENTS:\n",
        "  from statistics import mean\n",
        "\n",
        "  x_smart = results[0]\n",
        "  y = [i for i in range(num_comparisons)]\n",
        "\n",
        "  x_naive = results[1]\n",
        "\n",
        "  x_smart.sort()\n",
        "  x_naive.sort()\n",
        "  print(\"Average time\")\n",
        "  print(f\"\\tsmart -> {mean(x_smart)}\")\n",
        "  print(f\"\\tsmart -> {mean(x_naive)}\")\n",
        "\n",
        "  print(\"Average of maximum strategy profiles to check\")\n",
        "  print(f\"\\tsmart -> {mean(results[2])}\")\n",
        "  print(f\"\\tnaive -> {mean(results[3])}\")\n",
        "\n",
        "\n",
        "  plt.plot(y, x_naive, marker='o', linestyle='-', label='naive version')\n",
        "  plt.plot(y, x_smart,  marker='x', linestyle='-', label='smart version')\n",
        "\n",
        "  plt.ylabel('Solved instances')\n",
        "  plt.xlabel('time')\n",
        "  plt.title('Nash Equilibrium')\n",
        "\n",
        "  plt.legend()\n",
        "\n",
        "  plt.show()"
      ]
    },
    {
      "cell_type": "code",
      "execution_count": null,
      "metadata": {
        "id": "PU22TiWtzZlZ"
      },
      "outputs": [],
      "source": [
        "#G = generate_random_graph_from_parameters(4, 1, 2, 2)\n",
        "# nx.draw(G, with_labels = True, font_weight='bold', node_size = 500, node_color = 'red')\n",
        "# all_nodes = list(G.nodes())\n",
        "# all_nodes.remove('s')\n",
        "# all_nodes.remove('t')\n",
        "# all_strategy_profiles = powerset(all_nodes)\n",
        "# always_cooperating_players = compute_always_cooperating_players(G)\n",
        "# payoffs_smart = compute_payoffs(G, always_cooperating_players, True)\n",
        "# #print(payoffs_smart)\n",
        "# #print(always_cooperating_players)\n",
        "# #nash_eq_smart = compute_nash_equilibrium_smart(G, payoffs_smart, always_cooperating_players, all_strategy_profiles, True)\n",
        "# nash_eq_smart = compute_nash_equilibrium_naive(G, payoffs_smart, all_strategy_profiles, True)\n",
        "# print(nash_eq_smart)\n"
      ]
    },
    {
      "cell_type": "code",
      "execution_count": null,
      "metadata": {
        "id": "TMVqMYRzd_EB"
      },
      "outputs": [],
      "source": [
        "# @title Block for checking solution after submission\n",
        "# TODO just define your graph here and remove all comments\n",
        "# if POINT_3 and SINGLE_BENCHMARK:\n",
        "  # G=nx.Graph()\n",
        "  # nodes = ['s', 't', '1', '2', '3', '4']\n",
        "  # edges = [('s', '1'), ('s', '2'), ('1', '3'), ('1', '4'), #('3','4'),('3','2'),\n",
        "  #         ('2', '4'), ('3', 't'), ('4', 't')]\n",
        "  # G.add_nodes_from(nodes)\n",
        "  # G.add_edges_from(edges)\n",
        "\n",
        "  # print(f\"Nodes: {G.nodes()}\")\n",
        "  # print(f\"Edges: {G.edges()}\")\n",
        "  # all_nodes = list(G.nodes())\n",
        "  # all_nodes.remove('s')\n",
        "  # all_nodes.remove('t')\n",
        "  # all_strategy_profiles = powerset(all_nodes)\n",
        "  # always_cooperating_players = compute_always_cooperating_players(G)\n",
        "  # payoffs_smart = compute_payoffs(G, always_cooperating_players, False)\n",
        "  # nash_eq_smart = compute_nash_equilibrium_smart(G, payoffs_smart, always_cooperating_players, all_strategy_profiles)\n",
        "  # print(nash_eq_smart)\n",
        "  # payoffs_smart"
      ]
    },
    {
      "cell_type": "markdown",
      "metadata": {
        "id": "xoUBzWfqAPMo"
      },
      "source": [
        "# Assignment 3"
      ]
    },
    {
      "cell_type": "code",
      "execution_count": null,
      "metadata": {
        "id": "vpaNF3yFASCI"
      },
      "outputs": [],
      "source": [
        "# @title Tree decomposition\n",
        "if POINT_3:\n",
        "  def tree_decomposition(G, elimination_order):\n",
        "      bags: set = set()\n",
        "      max_bag_size = 0\n",
        "      for node in elimination_order:\n",
        "          bag: set = set()\n",
        "          bag.add(node)\n",
        "          #triangulate - add an edge between any pair of adj nodes to the one that I am removing\n",
        "          for neigh1 in nx.neighbors(G, node):\n",
        "              #create a bag with all the neighbours of the elimination node\n",
        "              bag.add(neigh1) #this should add the node itself\n",
        "              for neigh2 in nx.neighbors(G, node):\n",
        "                  G.add_edge(neigh1, neigh2)\n",
        "\n",
        "          to_add = True\n",
        "          for bag_already_added in bags:\n",
        "              if  bag_already_added.issuperset(frozenset(bag)):\n",
        "                  to_add = False\n",
        "\n",
        "          if to_add:\n",
        "              #add bag\n",
        "              bags.add(frozenset(bag))\n",
        "              if len(bag) > max_bag_size:\n",
        "                  max_bag_size = len(bag)\n",
        "\n",
        "          G.remove_node(node)\n",
        "\n",
        "      # Build a weighted graph on the bags, where the weights are given by the cardinality of the intersection of any two bags\n",
        "      # In such a way the maximum spanning tree of the constructed graph will trivially\n",
        "      # coincide with the tree decomposition. No edge is added in T if the cardinality\n",
        "      # of the intersection between two bags is not maximum(this comes form max span tree definition)\n",
        "      cluster_graph = nx.Graph()\n",
        "      edges = [(u, v, len(u & v)) for u, v in permutations(bags, 2) if len(u & v) > 0]\n",
        "      cluster_graph.add_weighted_edges_from(edges)\n",
        "\n",
        "      # Find the tree decomposition by extracting the maximum spanning tree of the cluster graph\n",
        "      T = nx.maximum_spanning_tree(cluster_graph)\n",
        "\n",
        "      return (max_bag_size-1, T)\n",
        "\n"
      ]
    },
    {
      "cell_type": "code",
      "execution_count": null,
      "metadata": {
        "id": "Ct0V4H9ua-o9"
      },
      "outputs": [],
      "source": [
        "# @title min degree elimination order\n",
        "if POINT_3:\n",
        "  def min_degree_elimination_order(G):\n",
        "      G1 = G.copy()\n",
        "      degree_of_node:dict = {}\n",
        "      removal_order = []\n",
        "      min_neighbours_def = len(G1.nodes())\n",
        "      while len(G1.nodes()) > 0:\n",
        "          degree_of_node = {}\n",
        "          min_neighbours = min_neighbours_def\n",
        "          for node in G1.nodes():\n",
        "              if G1.degree(node) < min_neighbours:\n",
        "                  min_neighbours = G1.degree(node)\n",
        "                  degree_of_node[node] = G1.degree(node)\n",
        "\n",
        "\n",
        "          #G.remove_edges_from(G.nodes()[node])\n",
        "          to_remove = list(degree_of_node.keys())[list(degree_of_node.values()).index(min(degree_of_node.values()))]\n",
        "          removal_order.append(to_remove)\n",
        "          #print(\"Nodes in the graph: \", G1.nodes(), \" to remove \", to_remove)\n",
        "          #triangulate - add an edge between any pair of adj nodes to the one that I am removing\n",
        "          for neigh1 in nx.neighbors(G1, to_remove):\n",
        "              for neigh2 in nx.neighbors(G1, to_remove):\n",
        "                  if neigh1 != neigh2:\n",
        "                    G1.add_edge(neigh1, neigh2)\n",
        "          G1.remove_node(to_remove)\n",
        "      return removal_order"
      ]
    },
    {
      "cell_type": "code",
      "execution_count": null,
      "metadata": {
        "id": "cBlTA6Sm7c5x"
      },
      "outputs": [],
      "source": [
        "# @title Nash Equilibrium computation with Tree decomposition\n",
        "# Note: whatever correct tree decomposition we find is a bound to the treewidth\n",
        "# of the graph. The algorithm works with whatever tree decomposition, but in the\n",
        "# trivial case in which all the nodes are grouped in a single bag the algorithm\n",
        "# does not behave differently w.r.t. the nash equilibrium computation that does\n",
        "# not exploit tree decomposition\n",
        "if POINT_3:\n",
        "  def compute_nash_equilibrium_from_tree_decomposition(T, payoffs, all_strategy_profiles):\n",
        "    root = list(T.nodes())[0]\n",
        "    bfs_successors = dict(nx.bfs_successors(T, root))\n",
        "    postorder = nx.dfs_postorder_nodes(T, root)\n",
        "\n",
        "    # keeps a set for each bag which consists of the players that a bag is fixing\n",
        "    player_fixed_by_bag: dict = {}\n",
        "    # keeps what are equilibria up to a certain level in the tree\n",
        "    equilibria_up_to_bag : dict = {}\n",
        "\n",
        "    players_fixed_cooperate = set()\n",
        "    players_fixed_defect = set()\n",
        "    non_fixed_players = set()\n",
        "\n",
        "    for bag in postorder:\n",
        "      #print(f\"Considering bag {bag}\")\n",
        "\n",
        "      is_root = True\n",
        "      #find the father of current bag and compute what node the current bag is fixing\n",
        "      for father in bfs_successors:\n",
        "        if bag in bfs_successors[father]:\n",
        "          #bag is son of father\n",
        "          is_root = False\n",
        "          player_fixed_by_bag[bag] = bag - father\n",
        "          #print(f\"Bag {bag} is fixing  {player_fixed_by_bag[bag]} computed as {bag} - {father}\")\n",
        "          break\n",
        "        if is_root:\n",
        "          players_fixed_by_root = []\n",
        "          # fix all the players that are in child and not in root\n",
        "          for child in bfs_successors[bag]:\n",
        "            # fix the players that were not fixed by child (those in common with them)\n",
        "            players_fixed_by_root = players_fixed_by_root + list(child.intersection(bag))\n",
        "          player_fixed_by_bag[bag] = frozenset(players_fixed_by_root)\n",
        "          #print(f\"Bag {bag} is fixing  {player_fixed_by_bag[bag]}\")\n",
        "\n",
        "      #leaf\n",
        "      if bag not in bfs_successors:\n",
        "        #print(f\"bag {bag} is a leaf\")\n",
        "        equilibria_up_to_bag[bag] = []\n",
        "        for strategy_profile in all_strategy_profiles:\n",
        "          best_strategy = True\n",
        "          for player in bag.union(non_fixed_players):\n",
        "            #print(f\"Checking best response for {player}\")\n",
        "            player_set = frozenset([player])\n",
        "\n",
        "            if player in strategy_profile:\n",
        "              changed_strategy = player_set - strategy_profile\n",
        "            else:\n",
        "              changed_strategy = strategy_profile.union(player_set)\n",
        "\n",
        "            if payoffs[changed_strategy][int(player)-1] > payoffs[strategy_profile][int(player)-1]:\n",
        "              best_strategy = False\n",
        "              break\n",
        "          #profile is not best strategy for some player and hence it cannot be an eq.\n",
        "          #if no player stopped the inner for (for every player the profile was\n",
        "          # a best response), then profile is an equilibrium\n",
        "          if best_strategy:\n",
        "            #just the players of the bag may suffice\n",
        "            equilibria_up_to_bag[bag].append(strategy_profile)\n",
        "            #print(f\"appending equilibria for bag {bag}\")\n",
        "\n",
        "        # save fixed player by bag with their choice\n",
        "        # (assuming that only one option is saved among cooperate and defect)\n",
        "        for player in player_fixed_by_bag[bag]:\n",
        "          all_defect = True\n",
        "          all_cooperate = True\n",
        "          for strategy in equilibria_up_to_bag[bag]:\n",
        "            if player in strategy:\n",
        "              all_defect = False\n",
        "            if player not in strategy:\n",
        "              all_cooperate = False\n",
        "          if all_cooperate:\n",
        "            players_fixed_cooperate.add(player)\n",
        "            #print(f\"Bag {bag} is fixing {player} as cooperate\")\n",
        "          elif all_defect:\n",
        "            players_fixed_defect.add(player)\n",
        "            #print(f\"Bag {bag} is fixing {player} as defect\")\n",
        "          else: #non-fixed\n",
        "            non_fixed_players.add(player)\n",
        "\n",
        "      #non-leaf: merge results\n",
        "      else:\n",
        "        #print(f\"bag {bag} is not a leaf\")\n",
        "        equilibria_up_to_bag[bag] = []\n",
        "        all_strategy_profiles_bag = []\n",
        "\n",
        "        # say that everyone survives\n",
        "        for child in bfs_successors[bag]:\n",
        "          #print(f\"Considering bag {bag} - adding equilibria from {child}\")\n",
        "          all_strategy_profiles_bag = all_strategy_profiles_bag + equilibria_up_to_bag[child]\n",
        "\n",
        "        to_check_players = players_fixed_cooperate.union(players_fixed_defect)\n",
        "        strategy_profiles_to_remove = set()\n",
        "        all_strategy_profiles_bag = list(set(all_strategy_profiles_bag))\n",
        "        # remove strategy profiles such that they do not match on\n",
        "        # he ith player with the ith player fixed by some child of bag\n",
        "        #print(f\"removing candidate eqilibria from bag {bag} I have to check players {players_fixed_cooperate} and {players_fixed_defect}\")\n",
        "\n",
        "        for strategy_profile in all_strategy_profiles_bag:\n",
        "            for player in to_check_players:\n",
        "              #print(f\"I am in bag {bag} and checking {player}\")\n",
        "              if player in players_fixed_cooperate:\n",
        "                if player not in strategy_profile:\n",
        "                  strategy_profiles_to_remove.add(strategy_profile)\n",
        "                  #print(\"Removed one\")\n",
        "                  #print(f\"removed  {strategy_profile} outside bag loop - check cooperate\")\n",
        "              elif player in players_fixed_defect:\n",
        "                if player in strategy_profile:\n",
        "                  strategy_profiles_to_remove.add(strategy_profile)\n",
        "                  #print(f\"removed {strategy_profile} outside bag loop - check defect\")\n",
        "                  #print(\"Removed one\")\n",
        "\n",
        "        for strategy_profile in strategy_profiles_to_remove:\n",
        "          all_strategy_profiles_bag.remove(strategy_profile)\n",
        "\n",
        "        strategy_profiles_to_remove = set()\n",
        "\n",
        "        for strategy_profile in all_strategy_profiles_bag:\n",
        "          best_strategy = True\n",
        "          for player in bag.union(non_fixed_players):\n",
        "            player_set = frozenset([player])\n",
        "\n",
        "            if player in strategy_profile:\n",
        "              changed_strategy = player_set - strategy_profile\n",
        "            else:\n",
        "              changed_strategy = strategy_profile.union(player_set)\n",
        "\n",
        "            if payoffs[changed_strategy][int(player)-1] > payoffs[strategy_profile][int(player)-1]:\n",
        "              best_strategy = False\n",
        "              strategy_profiles_to_remove.add(strategy_profile)\n",
        "              #print(\"Removing inside check for bag best response\")\n",
        "              break\n",
        "\n",
        "        for strategy_profile in strategy_profiles_to_remove:\n",
        "          all_strategy_profiles_bag.remove(strategy_profile)\n",
        "\n",
        "        equilibria_up_to_bag[bag] = all_strategy_profiles_bag\n",
        "\n",
        "        # save fixed player by bag with their choice\n",
        "        # (assuming that only one option is saved among cooperate and defect)\n",
        "        for player in player_fixed_by_bag[bag]:\n",
        "          all_defect = True\n",
        "          all_cooperate = True\n",
        "          for strategy in equilibria_up_to_bag[bag]:\n",
        "            if player in strategy:\n",
        "              all_defect = False\n",
        "            if player not in strategy:\n",
        "              all_cooperate = False\n",
        "          if all_cooperate:\n",
        "            players_fixed_cooperate.add(player)\n",
        "            #print(f\"Bag {bag} is fixing {player} as cooperate\")\n",
        "          elif all_defect:\n",
        "            players_fixed_defect.add(player)\n",
        "            #print(f\"Bag {bag} is fixing {player} as defect\")\n",
        "          else: #non-fixed\n",
        "            non_fixed_players.add(player)\n",
        "\n",
        "      #print(f\"Equilibria up to bag {bag} are {len(equilibria_up_to_bag[bag])}\")\n",
        "    return equilibria_up_to_bag[root]\n",
        "    #original"
      ]
    },
    {
      "cell_type": "code",
      "execution_count": null,
      "metadata": {
        "colab": {
          "base_uri": "https://localhost:8080/",
          "height": 568
        },
        "id": "oqSUAcwmeSLB",
        "outputId": "98d294c2-1e1e-40e3-fdad-212b30ec0859"
      },
      "outputs": [
        {
          "name": "stdout",
          "output_type": "stream",
          "text": [
            "frozenset({'4', '1'})\n",
            "{frozenset({'4', '1'}): [frozenset({'3', '1'}), frozenset({'4', '2'})]}\n",
            "equilibria are [frozenset({'3', '4', '2', '1'})]\n"
          ]
        },
        {
          "data": {
            "image/png": "[encoded data removed]",
            "text/plain": [
              "<Figure size 640x480 with 1 Axes>"
            ]
          },
          "metadata": {},
          "output_type": "display_data"
        }
      ],
      "source": [
        "if POINT_3 and EXPERIMENTS:\n",
        "\n",
        "  G1 = G.copy()\n",
        "  G1.remove_nodes_from(['s', 't'])\n",
        "  T = tw.treewidth_min_degree(G1)[1]\n",
        "  elim_order = min_degree_elimination_order(G1)\n",
        "\n",
        "  #w, T = tree_decomposition(G1, elim_order)\n",
        "\n",
        "  labels = {node:','.join(list(map(str, node))) for node in T}\n",
        "\n",
        "  nx.draw(T, labels=labels, font_weight='bold', node_color = 'red', node_size = 3000)\n",
        "\n",
        "  root = list(T.nodes())[0]\n",
        "  print(root)\n",
        "  bfs_successors = dict(nx.bfs_successors(T, root))\n",
        "  print(bfs_successors)\n",
        "  all_nodes = list(G.nodes())\n",
        "  all_nodes.remove('s')\n",
        "  all_nodes.remove('t')\n",
        "  all_strategy_profiles = powerset(all_nodes)\n",
        "  payoffs = compute_payoffs(G, [], True)\n",
        "  all_equilibria = compute_nash_equilibrium_from_tree_decomposition(T, payoffs, all_strategy_profiles)\n",
        "  print(f\"equilibria are {all_equilibria}\")\n",
        "  #print(payoffs)"
      ]
    },
    {
      "cell_type": "markdown",
      "metadata": {
        "id": "OobfTaQ14KRD"
      },
      "source": [
        "# Assignment 4"
      ]
    },
    {
      "cell_type": "code",
      "execution_count": null,
      "metadata": {
        "id": "fFX2jhIs4L_d"
      },
      "outputs": [],
      "source": [
        "# @title VCG\n",
        "if POINT_4:\n",
        "  # defines the function that maps each player to their real utility\n",
        "  def real_utility_for_player(player: int):\n",
        "    return player * 10\n",
        "\n",
        "  # declare a random value close to the real utility of the player\n",
        "  def declare_values(G):\n",
        "    k = 9\n",
        "    declared_values: dict = {}\n",
        "    all_nodes = list(G.nodes())\n",
        "    all_nodes.remove('s')\n",
        "    all_nodes.remove('t')\n",
        "\n",
        "    for player in all_nodes:\n",
        "      true_value_for_player = real_utility_for_player(int(player))\n",
        "      declared_values[player] = true_value_for_player + randint(-k, k)\n",
        "    return declared_values\n",
        "\n",
        "  # compute weight of a specific path according to declared values\n",
        "  def get_weight(path, declared_values):\n",
        "    value = 0\n",
        "    for node in path[1:-1]:\n",
        "      value += declared_values[node]\n",
        "    return value\n",
        "\n",
        "  # generate all simple paths in the graph and compute the weight of each of them\n",
        "  def compute_paths_to_values(G, declared_values):\n",
        "    paths_to_values = []\n",
        "    for path in nx.all_simple_paths(G, 's', 't'):\n",
        "      paths_to_values.append((path, get_weight(path, declared_values)))\n",
        "    paths_to_values.sort(key=lambda tup: tup[1], reverse=True)\n",
        "    return paths_to_values\n",
        "\n",
        "  # compute top ranked option by excluding a player. If such player is None\n",
        "  # just return the very first option (options are sorted by value)\n",
        "  def compute_top_ranked_without_player(paths_to_values, excluded_player = None):\n",
        "    if excluded_player is None:\n",
        "      return paths_to_values[0]\n",
        "\n",
        "    for path_and_value in paths_to_values:\n",
        "      if excluded_player not in path_and_value[0]:\n",
        "        return path_and_value\n",
        "\n",
        "    #no path without excluded player\n",
        "    return None\n",
        "\n",
        "  # compute payements for all players given the declaration\n",
        "  # in declared_values\n",
        "  def VCG_mechanism(G, declared_values):\n",
        "    #value and payements for every player\n",
        "    VCG_results = {}\n",
        "    paths_to_values = compute_paths_to_values(G, declared_values)\n",
        "    # for i in paths_to_values:\n",
        "    #   print(i)\n",
        "    top_ranked = compute_top_ranked_without_player(paths_to_values)\n",
        "    for player in list(G.nodes()):\n",
        "      if player == 's' or player == 't':\n",
        "        continue\n",
        "      top_ranked_wo_player = compute_top_ranked_without_player(paths_to_values, excluded_player = player)\n",
        "      if top_ranked_wo_player is None:\n",
        "        h_i = 0\n",
        "        #print(f\"Top ranked path without player {player} has value 0\")\n",
        "      else:\n",
        "        #print(f\"Top ranked path without player {player} is {top_ranked_wo_player[0]} of value {top_ranked_wo_player[1]}\")\n",
        "        h_i = top_ranked_wo_player[1]\n",
        "      opt_value_wo_player = 0\n",
        "      for p in top_ranked[0][1:-1]:\n",
        "        if p != player:\n",
        "          opt_value_wo_player += declared_values[p]\n",
        "      #print(f\"sum values in opt without counting player {player} is of value: {opt_value_wo_player}\")\n",
        "      payement_player = h_i - opt_value_wo_player\n",
        "      VCG_results[player] = payement_player * -1\n",
        "    return VCG_results\n",
        "\n",
        "  def compute_gain_with_payements_and_declarations(G, declared_values, players_and_payements):\n",
        "    all_nodes = list(G.nodes())\n",
        "    all_nodes.remove('s')\n",
        "    all_nodes.remove('t')\n",
        "    gain_players = {}\n",
        "    for player in all_nodes:\n",
        "      #print(f\"payement for player {player} is:  {players_and_payements[player]}\")\n",
        "      gain_players[player] = players_and_payements[player] - declared_values[player]\n",
        "    return gain_players"
      ]
    },
    {
      "cell_type": "code",
      "execution_count": null,
      "metadata": {
        "id": "xiQs8mYu_g6L"
      },
      "outputs": [],
      "source": [
        "if POINT_4:\n",
        "    G =  generate_random_graph_from_parameters(7, 0.3, 2, 2)\n",
        "    declared_values = declare_values(G)\n",
        "    players_and_payements = VCG_mechanism(G, declared_values)\n",
        "    compute_gain_with_payements_and_declarations(G, declared_values, players_and_payements)"
      ]
    },
    {
      "cell_type": "code",
      "execution_count": null,
      "metadata": {
        "colab": {
          "base_uri": "https://localhost:8080/"
        },
        "id": "Hw9JAW0Gey70",
        "outputId": "3843aa7b-65fa-41c5-a148-c630ebdec9ad"
      },
      "outputs": [
        {
          "name": "stdout",
          "output_type": "stream",
          "text": [
            "{'1': 5, '2': 18, '3': 26, '4': 45, '5': 49, '6': 54, '7': 78}\n",
            "Selected changing player: 3\n",
            "[26, 31, 36, 41, 46, 51, 56, 61, 66, 71]\n",
            "[-26, -31, -36, -41, -46, -51, -56, -61, -66, -71]\n"
          ]
        }
      ],
      "source": [
        "# @title Checking whether it is convenient for a player to declare a higher value\n",
        "if POINT_4 and EXPERIMENTS:\n",
        "  num_nodes = 7\n",
        "  G =  generate_random_graph_from_parameters(num_nodes, 0.3, 2, 2)\n",
        "  declared_values = declare_values(G)\n",
        "  print(declared_values)\n",
        "\n",
        "  increase_by_iteration = 5\n",
        "  selected_changing_player = str(num_nodes//2)\n",
        "  print(f\"Selected changing player: {selected_changing_player}\")\n",
        "  declaration_for_player = []\n",
        "  gain_for_changing_player = []\n",
        "\n",
        "  for i in range(10):\n",
        "    #change declaration of player and see what happens to the payement\n",
        "    players_and_payements = VCG_mechanism(G, declared_values)\n",
        "    gain_for_players = compute_gain_with_payements_and_declarations(G, declared_values, players_and_payements)\n",
        "    declaration_for_player.append(declared_values[selected_changing_player])\n",
        "    gain_for_changing_player.append(gain_for_players[selected_changing_player])\n",
        "    #print(\"WE \", declared_values)\n",
        "    #print(f\"Players and payements {gain_for_players}\")\n",
        "    declared_values[selected_changing_player] += increase_by_iteration\n",
        "\n",
        "  print(declaration_for_player)\n",
        "  print(gain_for_changing_player)"
      ]
    },
    {
      "cell_type": "code",
      "execution_count": null,
      "metadata": {
        "colab": {
          "base_uri": "https://localhost:8080/",
          "height": 472
        },
        "id": "VEuDgiW-kAZC",
        "outputId": "8efc2858-ce83-45e7-8c2c-bcbbd80ccec6"
      },
      "outputs": [
        {
          "data": {
            "image/png": "[encoded data removed]",
            "text/plain": [
              "<Figure size 640x480 with 1 Axes>"
            ]
          },
          "metadata": {},
          "output_type": "display_data"
        }
      ],
      "source": [
        "# @title Plot how gain for player goes as his declared value increases\n",
        "if POINT_4 and EXPERIMENTS:\n",
        "  plt.plot(declaration_for_player, gain_for_changing_player,  marker='x', linestyle='-', label='gain by declaration')\n",
        "  plt.axvline(x = real_utility_for_player(int(selected_changing_player)), color = 'b', label = 'real utility for player')\n",
        "  plt.ylabel('gain')\n",
        "  plt.xlabel('declaration')\n",
        "  plt.title('VCG')\n",
        "\n",
        "  plt.legend()\n",
        "\n",
        "  plt.show()"
      ]
    },
    {
      "cell_type": "code",
      "execution_count": null,
      "metadata": {
        "id": "t3vzuMC-eWkj"
      },
      "outputs": [],
      "source": [
        "# @title Block for checking solution after submission\n",
        "# TODO just define your graph here and remove all comments\n",
        "# if POINT_3 and SINGLE_BENCHMARK:\n",
        "  # G=nx.Graph()\n",
        "  # nodes = ['s', 't', '1', '2', '3', '4']\n",
        "  # edges = [('s', '1'), ('s', '2'), ('1', '3'), ('1', '4'), #('3','4'),('3','2'),\n",
        "  #         ('2', '4'), ('3', 't'), ('4', 't')]\n",
        "  # G.add_nodes_from(nodes)\n",
        "  # G.add_edges_from(edges)\n",
        "  # declared_values = declare_values(G)\n",
        "  # print(declared_values)\n",
        "  # players_and_payements = VCG_mechanism(G, declared_values)\n",
        "  # compute_gain_with_payements_and_declarations(G, declared_values, players_and_payements)"
      ]
    }
  ],
  "metadata": {
    "colab": {
      "provenance": [],
      "toc_visible": true
    },
    "kernelspec": {
      "display_name": "Python 3",
      "name": "python3"
    },
    "language_info": {
      "name": "python"
    }
  },
  "nbformat": 4,
  "nbformat_minor": 0
}
